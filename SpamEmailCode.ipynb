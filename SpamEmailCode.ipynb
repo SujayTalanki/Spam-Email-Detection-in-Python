{
 "cells": [
  {
   "cell_type": "markdown",
   "id": "5b972fdc",
   "metadata": {},
   "source": [
    "# Spam Email Detection using Machine Learning Algorithms"
   ]
  },
  {
   "cell_type": "markdown",
   "id": "8ddc0abf",
   "metadata": {},
   "source": [
    "# Importing Libraries"
   ]
  },
  {
   "cell_type": "code",
   "execution_count": 1,
   "id": "1e4d1743",
   "metadata": {},
   "outputs": [],
   "source": [
    "from email import message\n",
    "import pandas as pd\n",
    "import numpy as np\n",
    "import nltk\n",
    "from nltk.corpus import stopwords\n",
    "from sklearn.feature_extraction.text import CountVectorizer\n",
    "from sklearn.model_selection import cross_val_score\n",
    "from sklearn.naive_bayes import MultinomialNB\n",
    "from sklearn.linear_model import LogisticRegression\n",
    "from sklearn.svm import SVC\n",
    "import string"
   ]
  },
  {
   "cell_type": "markdown",
   "id": "d867d54b",
   "metadata": {},
   "source": [
    "# Loading and cleaning the dataset"
   ]
  },
  {
   "cell_type": "code",
   "execution_count": 2,
   "id": "e2bca20a",
   "metadata": {},
   "outputs": [
    {
     "data": {
      "text/html": [
       "<div>\n",
       "<style scoped>\n",
       "    .dataframe tbody tr th:only-of-type {\n",
       "        vertical-align: middle;\n",
       "    }\n",
       "\n",
       "    .dataframe tbody tr th {\n",
       "        vertical-align: top;\n",
       "    }\n",
       "\n",
       "    .dataframe thead th {\n",
       "        text-align: right;\n",
       "    }\n",
       "</style>\n",
       "<table border=\"1\" class=\"dataframe\">\n",
       "  <thead>\n",
       "    <tr style=\"text-align: right;\">\n",
       "      <th></th>\n",
       "      <th>text</th>\n",
       "      <th>spam</th>\n",
       "    </tr>\n",
       "  </thead>\n",
       "  <tbody>\n",
       "    <tr>\n",
       "      <th>0</th>\n",
       "      <td>Go until jurong point, crazy.. Available only ...</td>\n",
       "      <td>0</td>\n",
       "    </tr>\n",
       "    <tr>\n",
       "      <th>1</th>\n",
       "      <td>Ok lar... Joking wif u oni...</td>\n",
       "      <td>0</td>\n",
       "    </tr>\n",
       "    <tr>\n",
       "      <th>2</th>\n",
       "      <td>Free entry in 2 a wkly comp to win FA Cup fina...</td>\n",
       "      <td>1</td>\n",
       "    </tr>\n",
       "    <tr>\n",
       "      <th>3</th>\n",
       "      <td>U dun say so early hor... U c already then say...</td>\n",
       "      <td>0</td>\n",
       "    </tr>\n",
       "    <tr>\n",
       "      <th>4</th>\n",
       "      <td>Nah I don't think he goes to usf, he lives aro...</td>\n",
       "      <td>0</td>\n",
       "    </tr>\n",
       "  </tbody>\n",
       "</table>\n",
       "</div>"
      ],
      "text/plain": [
       "                                                text  spam\n",
       "0  Go until jurong point, crazy.. Available only ...     0\n",
       "1                      Ok lar... Joking wif u oni...     0\n",
       "2  Free entry in 2 a wkly comp to win FA Cup fina...     1\n",
       "3  U dun say so early hor... U c already then say...     0\n",
       "4  Nah I don't think he goes to usf, he lives aro...     0"
      ]
     },
     "execution_count": 2,
     "metadata": {},
     "output_type": "execute_result"
    }
   ],
   "source": [
    "df = pd.read_csv('spam.csv')\n",
    "df.rename(columns={'v1': 'spam', 'v2': 'text'}, inplace=True)\n",
    "df = df[['text', 'spam']]\n",
    "df['spam'] = df['spam'].replace('ham', 0)\n",
    "df['spam'] = df['spam'].replace('spam', 1)\n",
    "df.drop_duplicates(inplace=True)\n",
    "df.head()"
   ]
  },
  {
   "cell_type": "code",
   "execution_count": 3,
   "id": "3c3acf3a",
   "metadata": {},
   "outputs": [],
   "source": [
    "#Cleaning text\n",
    "def clean_text(text):\n",
    "    #Removing the punctuation\n",
    "    punct = [word for word in text if text not in string.punctuation]\n",
    "    punct = ''.join(punct)\n",
    "\n",
    "    #Removing the stopwords\n",
    "    cleaned = [word for word in punct.split() if word.lower() not in stopwords.words('english')]\n",
    "    return cleaned"
   ]
  },
  {
   "cell_type": "markdown",
   "id": "4b3b0b28",
   "metadata": {},
   "source": [
    "# Converting text to a token matrix"
   ]
  },
  {
   "cell_type": "code",
   "execution_count": 4,
   "id": "8670d0b4",
   "metadata": {},
   "outputs": [
    {
     "data": {
      "text/html": [
       "<div>\n",
       "<style scoped>\n",
       "    .dataframe tbody tr th:only-of-type {\n",
       "        vertical-align: middle;\n",
       "    }\n",
       "\n",
       "    .dataframe tbody tr th {\n",
       "        vertical-align: top;\n",
       "    }\n",
       "\n",
       "    .dataframe thead th {\n",
       "        text-align: right;\n",
       "    }\n",
       "</style>\n",
       "<table border=\"1\" class=\"dataframe\">\n",
       "  <thead>\n",
       "    <tr style=\"text-align: right;\">\n",
       "      <th></th>\n",
       "      <th>!</th>\n",
       "      <th>!!</th>\n",
       "      <th>!!!</th>\n",
       "      <th>!!!!</th>\n",
       "      <th>!!''.</th>\n",
       "      <th>!1</th>\n",
       "      <th>!:-)</th>\n",
       "      <th>!This</th>\n",
       "      <th>#</th>\n",
       "      <th>#150</th>\n",
       "      <th>...</th>\n",
       "      <th>åÒHarry</th>\n",
       "      <th>åÒIt's</th>\n",
       "      <th>åÔMORROW.</th>\n",
       "      <th>åÔrents</th>\n",
       "      <th>‰Û_</th>\n",
       "      <th>‰Û_.</th>\n",
       "      <th>‰Û_Thanks</th>\n",
       "      <th>‰ÛÏ</th>\n",
       "      <th>‰ÛÏHarry</th>\n",
       "      <th>‰ÛÒ</th>\n",
       "    </tr>\n",
       "  </thead>\n",
       "  <tbody>\n",
       "    <tr>\n",
       "      <th>0</th>\n",
       "      <td>0</td>\n",
       "      <td>0</td>\n",
       "      <td>0</td>\n",
       "      <td>0</td>\n",
       "      <td>0</td>\n",
       "      <td>0</td>\n",
       "      <td>0</td>\n",
       "      <td>0</td>\n",
       "      <td>0</td>\n",
       "      <td>0</td>\n",
       "      <td>...</td>\n",
       "      <td>0</td>\n",
       "      <td>0</td>\n",
       "      <td>0</td>\n",
       "      <td>0</td>\n",
       "      <td>0</td>\n",
       "      <td>0</td>\n",
       "      <td>0</td>\n",
       "      <td>0</td>\n",
       "      <td>0</td>\n",
       "      <td>0</td>\n",
       "    </tr>\n",
       "    <tr>\n",
       "      <th>1</th>\n",
       "      <td>0</td>\n",
       "      <td>0</td>\n",
       "      <td>0</td>\n",
       "      <td>0</td>\n",
       "      <td>0</td>\n",
       "      <td>0</td>\n",
       "      <td>0</td>\n",
       "      <td>0</td>\n",
       "      <td>0</td>\n",
       "      <td>0</td>\n",
       "      <td>...</td>\n",
       "      <td>0</td>\n",
       "      <td>0</td>\n",
       "      <td>0</td>\n",
       "      <td>0</td>\n",
       "      <td>0</td>\n",
       "      <td>0</td>\n",
       "      <td>0</td>\n",
       "      <td>0</td>\n",
       "      <td>0</td>\n",
       "      <td>0</td>\n",
       "    </tr>\n",
       "    <tr>\n",
       "      <th>2</th>\n",
       "      <td>0</td>\n",
       "      <td>0</td>\n",
       "      <td>0</td>\n",
       "      <td>0</td>\n",
       "      <td>0</td>\n",
       "      <td>0</td>\n",
       "      <td>0</td>\n",
       "      <td>0</td>\n",
       "      <td>0</td>\n",
       "      <td>0</td>\n",
       "      <td>...</td>\n",
       "      <td>0</td>\n",
       "      <td>0</td>\n",
       "      <td>0</td>\n",
       "      <td>0</td>\n",
       "      <td>0</td>\n",
       "      <td>0</td>\n",
       "      <td>0</td>\n",
       "      <td>0</td>\n",
       "      <td>0</td>\n",
       "      <td>0</td>\n",
       "    </tr>\n",
       "    <tr>\n",
       "      <th>3</th>\n",
       "      <td>0</td>\n",
       "      <td>0</td>\n",
       "      <td>0</td>\n",
       "      <td>0</td>\n",
       "      <td>0</td>\n",
       "      <td>0</td>\n",
       "      <td>0</td>\n",
       "      <td>0</td>\n",
       "      <td>0</td>\n",
       "      <td>0</td>\n",
       "      <td>...</td>\n",
       "      <td>0</td>\n",
       "      <td>0</td>\n",
       "      <td>0</td>\n",
       "      <td>0</td>\n",
       "      <td>0</td>\n",
       "      <td>0</td>\n",
       "      <td>0</td>\n",
       "      <td>0</td>\n",
       "      <td>0</td>\n",
       "      <td>0</td>\n",
       "    </tr>\n",
       "    <tr>\n",
       "      <th>4</th>\n",
       "      <td>0</td>\n",
       "      <td>0</td>\n",
       "      <td>0</td>\n",
       "      <td>0</td>\n",
       "      <td>0</td>\n",
       "      <td>0</td>\n",
       "      <td>0</td>\n",
       "      <td>0</td>\n",
       "      <td>0</td>\n",
       "      <td>0</td>\n",
       "      <td>...</td>\n",
       "      <td>0</td>\n",
       "      <td>0</td>\n",
       "      <td>0</td>\n",
       "      <td>0</td>\n",
       "      <td>0</td>\n",
       "      <td>0</td>\n",
       "      <td>0</td>\n",
       "      <td>0</td>\n",
       "      <td>0</td>\n",
       "      <td>0</td>\n",
       "    </tr>\n",
       "    <tr>\n",
       "      <th>...</th>\n",
       "      <td>...</td>\n",
       "      <td>...</td>\n",
       "      <td>...</td>\n",
       "      <td>...</td>\n",
       "      <td>...</td>\n",
       "      <td>...</td>\n",
       "      <td>...</td>\n",
       "      <td>...</td>\n",
       "      <td>...</td>\n",
       "      <td>...</td>\n",
       "      <td>...</td>\n",
       "      <td>...</td>\n",
       "      <td>...</td>\n",
       "      <td>...</td>\n",
       "      <td>...</td>\n",
       "      <td>...</td>\n",
       "      <td>...</td>\n",
       "      <td>...</td>\n",
       "      <td>...</td>\n",
       "      <td>...</td>\n",
       "      <td>...</td>\n",
       "    </tr>\n",
       "    <tr>\n",
       "      <th>5164</th>\n",
       "      <td>0</td>\n",
       "      <td>0</td>\n",
       "      <td>0</td>\n",
       "      <td>0</td>\n",
       "      <td>0</td>\n",
       "      <td>0</td>\n",
       "      <td>0</td>\n",
       "      <td>0</td>\n",
       "      <td>0</td>\n",
       "      <td>0</td>\n",
       "      <td>...</td>\n",
       "      <td>0</td>\n",
       "      <td>0</td>\n",
       "      <td>0</td>\n",
       "      <td>0</td>\n",
       "      <td>0</td>\n",
       "      <td>0</td>\n",
       "      <td>0</td>\n",
       "      <td>0</td>\n",
       "      <td>0</td>\n",
       "      <td>0</td>\n",
       "    </tr>\n",
       "    <tr>\n",
       "      <th>5165</th>\n",
       "      <td>0</td>\n",
       "      <td>0</td>\n",
       "      <td>0</td>\n",
       "      <td>0</td>\n",
       "      <td>0</td>\n",
       "      <td>0</td>\n",
       "      <td>0</td>\n",
       "      <td>0</td>\n",
       "      <td>0</td>\n",
       "      <td>0</td>\n",
       "      <td>...</td>\n",
       "      <td>0</td>\n",
       "      <td>0</td>\n",
       "      <td>0</td>\n",
       "      <td>0</td>\n",
       "      <td>0</td>\n",
       "      <td>0</td>\n",
       "      <td>0</td>\n",
       "      <td>0</td>\n",
       "      <td>0</td>\n",
       "      <td>0</td>\n",
       "    </tr>\n",
       "    <tr>\n",
       "      <th>5166</th>\n",
       "      <td>0</td>\n",
       "      <td>0</td>\n",
       "      <td>0</td>\n",
       "      <td>0</td>\n",
       "      <td>0</td>\n",
       "      <td>0</td>\n",
       "      <td>0</td>\n",
       "      <td>0</td>\n",
       "      <td>0</td>\n",
       "      <td>0</td>\n",
       "      <td>...</td>\n",
       "      <td>0</td>\n",
       "      <td>0</td>\n",
       "      <td>0</td>\n",
       "      <td>0</td>\n",
       "      <td>0</td>\n",
       "      <td>0</td>\n",
       "      <td>0</td>\n",
       "      <td>0</td>\n",
       "      <td>0</td>\n",
       "      <td>0</td>\n",
       "    </tr>\n",
       "    <tr>\n",
       "      <th>5167</th>\n",
       "      <td>0</td>\n",
       "      <td>0</td>\n",
       "      <td>0</td>\n",
       "      <td>0</td>\n",
       "      <td>0</td>\n",
       "      <td>0</td>\n",
       "      <td>0</td>\n",
       "      <td>0</td>\n",
       "      <td>0</td>\n",
       "      <td>0</td>\n",
       "      <td>...</td>\n",
       "      <td>0</td>\n",
       "      <td>0</td>\n",
       "      <td>0</td>\n",
       "      <td>0</td>\n",
       "      <td>0</td>\n",
       "      <td>0</td>\n",
       "      <td>0</td>\n",
       "      <td>0</td>\n",
       "      <td>0</td>\n",
       "      <td>0</td>\n",
       "    </tr>\n",
       "    <tr>\n",
       "      <th>5168</th>\n",
       "      <td>0</td>\n",
       "      <td>0</td>\n",
       "      <td>0</td>\n",
       "      <td>0</td>\n",
       "      <td>0</td>\n",
       "      <td>0</td>\n",
       "      <td>0</td>\n",
       "      <td>0</td>\n",
       "      <td>0</td>\n",
       "      <td>0</td>\n",
       "      <td>...</td>\n",
       "      <td>0</td>\n",
       "      <td>0</td>\n",
       "      <td>0</td>\n",
       "      <td>0</td>\n",
       "      <td>0</td>\n",
       "      <td>0</td>\n",
       "      <td>0</td>\n",
       "      <td>0</td>\n",
       "      <td>0</td>\n",
       "      <td>0</td>\n",
       "    </tr>\n",
       "  </tbody>\n",
       "</table>\n",
       "<p>5169 rows × 15228 columns</p>\n",
       "</div>"
      ],
      "text/plain": [
       "      !  !!  !!!  !!!!  !!''.  !1  !:-)  !This  #  #150  ...  åÒHarry  åÒIt's  \\\n",
       "0     0   0    0     0      0   0     0      0  0     0  ...        0       0   \n",
       "1     0   0    0     0      0   0     0      0  0     0  ...        0       0   \n",
       "2     0   0    0     0      0   0     0      0  0     0  ...        0       0   \n",
       "3     0   0    0     0      0   0     0      0  0     0  ...        0       0   \n",
       "4     0   0    0     0      0   0     0      0  0     0  ...        0       0   \n",
       "...  ..  ..  ...   ...    ...  ..   ...    ... ..   ...  ...      ...     ...   \n",
       "5164  0   0    0     0      0   0     0      0  0     0  ...        0       0   \n",
       "5165  0   0    0     0      0   0     0      0  0     0  ...        0       0   \n",
       "5166  0   0    0     0      0   0     0      0  0     0  ...        0       0   \n",
       "5167  0   0    0     0      0   0     0      0  0     0  ...        0       0   \n",
       "5168  0   0    0     0      0   0     0      0  0     0  ...        0       0   \n",
       "\n",
       "      åÔMORROW.  åÔrents  ‰Û_  ‰Û_.  ‰Û_Thanks  ‰ÛÏ  ‰ÛÏHarry  ‰ÛÒ  \n",
       "0             0        0    0     0          0    0         0    0  \n",
       "1             0        0    0     0          0    0         0    0  \n",
       "2             0        0    0     0          0    0         0    0  \n",
       "3             0        0    0     0          0    0         0    0  \n",
       "4             0        0    0     0          0    0         0    0  \n",
       "...         ...      ...  ...   ...        ...  ...       ...  ...  \n",
       "5164          0        0    0     0          0    0         0    0  \n",
       "5165          0        0    0     0          0    0         0    0  \n",
       "5166          0        0    0     0          0    0         0    0  \n",
       "5167          0        0    0     0          0    0         0    0  \n",
       "5168          0        0    0     0          0    0         0    0  \n",
       "\n",
       "[5169 rows x 15228 columns]"
      ]
     },
     "execution_count": 4,
     "metadata": {},
     "output_type": "execute_result"
    }
   ],
   "source": [
    "vector = CountVectorizer(analyzer=clean_text)\n",
    "messages = vector.fit_transform(df['text'])\n",
    "count_array = messages.toarray()\n",
    "pd.DataFrame(data=count_array,columns = vector.get_feature_names_out())"
   ]
  },
  {
   "cell_type": "markdown",
   "id": "0bee1b59",
   "metadata": {},
   "source": [
    "# Performing a 10-fold cross validation to obtain the accuracy of each classifier"
   ]
  },
  {
   "cell_type": "markdown",
   "id": "7433793b",
   "metadata": {},
   "source": [
    "# Naive Bayes Classifier"
   ]
  },
  {
   "cell_type": "code",
   "execution_count": 5,
   "id": "464902dc",
   "metadata": {},
   "outputs": [
    {
     "name": "stdout",
     "output_type": "stream",
     "text": [
      "The 10-fold cross validation accuracy for the Naive Bayes Classifier is 95.7%.\n"
     ]
    }
   ],
   "source": [
    "naive_bayes_accuracy = np.mean(cross_val_score(MultinomialNB(), messages, df['spam'], scoring = \"accuracy\", cv = 10))\n",
    "print(\"The 10-fold cross validation accuracy for the Naive Bayes Classifier is \" + \n",
    "    str(100*round(naive_bayes_accuracy, 3)) + \"%.\")"
   ]
  },
  {
   "cell_type": "markdown",
   "id": "c012f77a",
   "metadata": {},
   "source": [
    "# Logistic Regression"
   ]
  },
  {
   "cell_type": "code",
   "execution_count": 6,
   "id": "1d813e23",
   "metadata": {},
   "outputs": [
    {
     "name": "stdout",
     "output_type": "stream",
     "text": [
      "The 10-fold cross validation accuracy for Logistic Regression is 97.3%.\n"
     ]
    }
   ],
   "source": [
    "LR_accuracy = np.mean(cross_val_score(LogisticRegression(), messages, df['spam'], scoring = \"accuracy\", cv = 10))\n",
    "print(\"The 10-fold cross validation accuracy for Logistic Regression is \" + \n",
    "    str(100*round(LR_accuracy, 3)) + \"%.\")"
   ]
  },
  {
   "cell_type": "markdown",
   "id": "209ada75",
   "metadata": {},
   "source": [
    "# Support Vector Machine"
   ]
  },
  {
   "cell_type": "markdown",
   "id": "7a6968a8",
   "metadata": {},
   "source": [
    "Linear Kernel"
   ]
  },
  {
   "cell_type": "code",
   "execution_count": 7,
   "id": "ff754728",
   "metadata": {},
   "outputs": [
    {
     "name": "stdout",
     "output_type": "stream",
     "text": [
      "The 10-fold cross validation accuracy for linear SVM is 97.7%.\n"
     ]
    }
   ],
   "source": [
    "SVM_linear_accuracy = np.mean(cross_val_score(SVC(kernel = \"linear\"), messages, df['spam'], scoring = \"accuracy\", cv = 10))\n",
    "print(\"The 10-fold cross validation accuracy for linear SVM is \" + \n",
    "    str(100*round(SVM_linear_accuracy, 3)) + \"%.\")"
   ]
  },
  {
   "cell_type": "markdown",
   "id": "9843042d",
   "metadata": {},
   "source": [
    "Radial Kernel"
   ]
  },
  {
   "cell_type": "code",
   "execution_count": 8,
   "id": "a871f621",
   "metadata": {},
   "outputs": [
    {
     "name": "stdout",
     "output_type": "stream",
     "text": [
      "The 10-fold cross validation accuracy for radial SVM is 95.89999999999999%.\n"
     ]
    }
   ],
   "source": [
    "SVM_radial_accuracy = np.mean(cross_val_score(SVC(kernel = \"rbf\"), messages, df['spam'], scoring = \"accuracy\", cv = 10))\n",
    "print(\"The 10-fold cross validation accuracy for radial SVM is \" + \n",
    "    str(100*round(SVM_radial_accuracy, 3)) + \"%.\")"
   ]
  },
  {
   "cell_type": "markdown",
   "id": "8a1dfe1d",
   "metadata": {},
   "source": [
    "Polynomial Kernel"
   ]
  },
  {
   "cell_type": "code",
   "execution_count": 9,
   "id": "1b945225",
   "metadata": {},
   "outputs": [
    {
     "name": "stdout",
     "output_type": "stream",
     "text": [
      "The 10-fold cross validation accuracy for polynomial SVM is 92.30000000000001%.\n"
     ]
    }
   ],
   "source": [
    "SVM_polynomial_accuracy = np.mean(cross_val_score(SVC(kernel = \"poly\"), messages, df['spam'], scoring = \"accuracy\", cv = 10))\n",
    "print(\"The 10-fold cross validation accuracy for polynomial SVM is \" + \n",
    "    str(100*round(SVM_polynomial_accuracy, 3)) + \"%.\")"
   ]
  },
  {
   "cell_type": "markdown",
   "id": "99f06d2a",
   "metadata": {},
   "source": [
    "Sigmoid Kernel"
   ]
  },
  {
   "cell_type": "code",
   "execution_count": 10,
   "id": "a106e6a6",
   "metadata": {},
   "outputs": [
    {
     "name": "stdout",
     "output_type": "stream",
     "text": [
      "The 10-fold cross validation accuracy for sigmoid SVM is 97.6%.\n"
     ]
    }
   ],
   "source": [
    "SVM_sigmoid_accuracy = np.mean(cross_val_score(SVC(kernel = \"sigmoid\"), messages, df['spam'], scoring = \"accuracy\", cv = 10))\n",
    "print(\"The 10-fold cross validation accuracy for sigmoid SVM is \" + \n",
    "    str(100*round(SVM_sigmoid_accuracy, 3)) + \"%.\")"
   ]
  },
  {
   "cell_type": "markdown",
   "id": "f153e268",
   "metadata": {},
   "source": [
    "# Summary"
   ]
  },
  {
   "cell_type": "markdown",
   "id": "16085bb7",
   "metadata": {},
   "source": [
    "While most of the classifiers do very well, predicting the correct category 95-97 percent of the time, the Logistic regression, linear SVM, and sigmoid SVM, do the best job with ~ 97 percent CV accuracy each."
   ]
  },
  {
   "cell_type": "code",
   "execution_count": null,
   "id": "63f694a3",
   "metadata": {},
   "outputs": [],
   "source": []
  }
 ],
 "metadata": {
  "kernelspec": {
   "display_name": "Python 3 (ipykernel)",
   "language": "python",
   "name": "python3"
  },
  "language_info": {
   "codemirror_mode": {
    "name": "ipython",
    "version": 3
   },
   "file_extension": ".py",
   "mimetype": "text/x-python",
   "name": "python",
   "nbconvert_exporter": "python",
   "pygments_lexer": "ipython3",
   "version": "3.9.2"
  }
 },
 "nbformat": 4,
 "nbformat_minor": 5
}
